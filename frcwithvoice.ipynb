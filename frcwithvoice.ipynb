{
 "cells": [
  {
   "cell_type": "code",
   "execution_count": null,
   "id": "b1e6425a",
   "metadata": {},
   "outputs": [
    {
     "name": "stdout",
     "output_type": "stream",
     "text": [
      "5 encoding images found.\n",
      "Encoding images loaded\n"
     ]
    }
   ],
   "source": [
    "import cv2\n",
    "from simple_facerec import SimpleFacerec\n",
    "import pyttsx3\n",
    "\n",
    "# Initialize the text-to-speech engine\n",
    "engine = pyttsx3.init()\n",
    "\n",
    "sfr = SimpleFacerec()\n",
    "sfr.load_encoding_images(\"C:/Users/jyothi gollu/Desktop/img/opencv\")\n",
    "\n",
    "cap = cv2.VideoCapture(0)\n",
    "try:\n",
    "    while True:\n",
    "        ret, frame = cap.read()\n",
    "        if not ret:\n",
    "            break\n",
    "    \n",
    "        face_locations, face_names = sfr.detect_known_faces(frame)\n",
    "        for face_loc, name in zip(face_locations, face_names):\n",
    "            y1, x1, y2, x2 = face_loc\n",
    "            if name == \"Unknown\":\n",
    "                name = \"Unrecognized\"\n",
    "                color = (0, 0, 255)  # Red color for unrecognized faces\n",
    "            else:\n",
    "                color = (0, 255, 0)  # Green color for recognized faces\n",
    "        \n",
    "            cv2.rectangle(frame, (x1, y1), (x2, y2), color, 4)\n",
    "            cv2.putText(frame, name, (x1, y1 - 10), cv2.FONT_HERSHEY_SIMPLEX, 0.9, color, 2)\n",
    "        \n",
    "        # Speak the recognized person's name\n",
    "            engine.say(name)\n",
    "            engine.runAndWait()\n",
    "    \n",
    "        cv2.imshow(\"Frame\", frame)\n",
    "    \n",
    "        key = cv2.waitKey(1)& 0xFF\n",
    "        if key == 27:\n",
    "            break\n",
    "finally:\n",
    "# Release the camera and close OpenCV windows\n",
    "    cap.release()\n",
    "    cv2.destroyAllWindows()\n"
   ]
  }
 ],
 "metadata": {
  "kernelspec": {
   "display_name": "Python 3 (ipykernel)",
   "language": "python",
   "name": "python3"
  },
  "language_info": {
   "codemirror_mode": {
    "name": "ipython",
    "version": 3
   },
   "file_extension": ".py",
   "mimetype": "text/x-python",
   "name": "python",
   "nbconvert_exporter": "python",
   "pygments_lexer": "ipython3",
   "version": "3.11.4"
  }
 },
 "nbformat": 4,
 "nbformat_minor": 5
}
