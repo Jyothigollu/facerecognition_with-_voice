{
 "cells": [
  {
   "cell_type": "code",
   "execution_count": null,
   "id": "71450410",
   "metadata": {},
   "outputs": [],
   "source": [
    "import speech_recognition as sr\n",
    "import webbrowser\n",
    "speech_engine = sr.Recognizer()\n",
    "\n",
    "with sr.Microphone() as micro:\n",
    "    print(\"Recording...\")\n",
    "    audio = speech_engine.listen(micro, timeout=5)  # Changed record to listen\n",
    "    print(\"Recognizing...\")\n",
    "    \n",
    "try:\n",
    "    text = speech_engine.recognize_google(audio, language=\"de-DE\")\n",
    "    print(\"You said:\", text)\n",
    "    \n",
    "    if \"Open Google\" in text:\n",
    "        webbrowser.open(\"https://www.google.com\")\n",
    "    else:\n",
    "        webbrowser.open(\"https://en.wikipedia.org\")\n",
    "        \n",
    "except sr.UnknownValueError:\n",
    "    print(\"Sorry, I couldn't understand your speech.\")\n",
    "except sr.RequestError as e:\n",
    "    print(f\"Sorry, there was an error with the speech recognition service: {e}\")\n",
    "\n"
   ]
  }
 ],
 "metadata": {
  "kernelspec": {
   "display_name": "Python 3 (ipykernel)",
   "language": "python",
   "name": "python3"
  },
  "language_info": {
   "codemirror_mode": {
    "name": "ipython",
    "version": 3
   },
   "file_extension": ".py",
   "mimetype": "text/x-python",
   "name": "python",
   "nbconvert_exporter": "python",
   "pygments_lexer": "ipython3",
   "version": "3.11.4"
  }
 },
 "nbformat": 4,
 "nbformat_minor": 5
}
